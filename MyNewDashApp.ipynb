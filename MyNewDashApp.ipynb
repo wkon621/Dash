{
 "cells": [
  {
   "cell_type": "markdown",
   "metadata": {},
   "source": [
    "REFERENCES"
   ]
  },
  {
   "cell_type": "code",
   "execution_count": null,
   "metadata": {},
   "outputs": [],
   "source": [
    "# COVID19Py is a Python wrapper for the ExpDev07/coronavirus-tracker-api REST API\n",
    "\n",
    "# github.com/ExpDev07/coronavirus-tracker-api\n",
    "# It retrieves data directly from @ExpDev07's backend but it can also be set up to use a different backend\n",
    "\n",
    "# csbs - www.csbs.org/information-covid-19-coronavirus - U.S. County data that comes from the \n",
    "# Conference of State Bank Supervisors\n",
    "\n",
    "# jhu - https://github.com/CSSEGISandData/COVID-19 - Worldwide Data repository operated by the \n",
    "# Johns Hopkins University Center for Systems Science and Engineering (JHU CSSE)\n",
    "\n",
    "# Other References:\n",
    "# pandas.pydata.org/pandas-docs/stable/reference/api/pandas.DataFrame.from_dict.html\n",
    "# pandas.pydata.org/pandas-docs/stable/reference/api/pandas.DataFrame.plot.bar.html\n",
    "# pythonspot.com/matplotlib-bar-chart/\n",
    "# stackoverflow.com/questions/38152356/matplotlib-dollar-sign-with-thousands-comma-tick-labels\n",
    "# stackoverflow.com/questions/42049147/convert-list-to-pandas-dataframe-column\n",
    "# Scatter Plots on Maps - plotly.com/python/scatter-plots-on-maps/"
   ]
  },
  {
   "cell_type": "markdown",
   "metadata": {},
   "source": [
    "IMPORT PACKAGES"
   ]
  },
  {
   "cell_type": "code",
   "execution_count": null,
   "metadata": {},
   "outputs": [],
   "source": [
    "import COVID19Py\n",
    "import pandas as pd\n",
    "from pandas import DataFrame\n",
    "import matplotlib\n",
    "import matplotlib.pyplot as plt\n",
    "import matplotlib.ticker as mtick\n",
    "import numpy as np\n",
    "import cufflinks as cf\n",
    "import plotly\n",
    "import plotly.offline as py\n",
    "import plotly.graph_objs as go\n",
    "import plotly.express as px\n",
    "import plotly.io as pio\n",
    "from plotly.offline import iplot, init_notebook_mode\n",
    "init_notebook_mode(connected=True)\n",
    "import dash\n",
    "import dash_core_components as dcc\n",
    "import dash_html_components as html"
   ]
  },
  {
   "cell_type": "code",
   "execution_count": null,
   "metadata": {},
   "outputs": [],
   "source": [
    "covid19 = COVID19Py.COVID19() #create instance\n",
    "#covid19"
   ]
  },
  {
   "cell_type": "code",
   "execution_count": null,
   "metadata": {},
   "outputs": [],
   "source": [
    "covid19 = COVID19Py.COVID19(data_source=\"jhu\") #ask for dataset\n",
    "#covid19"
   ]
  },
  {
   "cell_type": "code",
   "execution_count": null,
   "metadata": {},
   "outputs": [],
   "source": [
    "latest = covid19.getLatest() #latest confirmed/deaths/recovered\n",
    "#latest"
   ]
  },
  {
   "cell_type": "markdown",
   "metadata": {},
   "source": [
    "CREATE PANDAS DATAFRAME FROM LOCATION DATA"
   ]
  },
  {
   "cell_type": "code",
   "execution_count": null,
   "metadata": {},
   "outputs": [],
   "source": [
    "#stackoverflow.com/questions/38231591/splitting-dictionary-list-inside-a-pandas-column-into-separate-columns\n",
    "#stackoverflow.com/questions/12376863/adding-calculated-columns-to-a-dataframe-in-pandas\n",
    "#pythonexamples.org/pandas-dataframe-delete-column/\n",
    "\n",
    "locations = covid19.getLocations() #location information\n",
    "#type(locations)\n",
    "locationsdforg = pd.DataFrame(locations)\n",
    "locationsdf = locationsdforg.drop(['country_code', 'last_updated'], axis=1)\n",
    "newlocationsdf = pd.concat([locationsdf.drop(['latest'], axis=1), locationsdf['latest'].apply(pd.Series)], axis=1)\n",
    "newlocationsdf = pd.concat([newlocationsdf.drop(['coordinates'], axis=1), newlocationsdf['coordinates'].apply(pd.Series)], axis=1)\n",
    "deathstopop = (newlocationsdf.deaths/newlocationsdf.country_population)*100\n",
    "newlocationsdf['deaths/population (%)'] = deathstopop\n",
    "confirmedtopop = (newlocationsdf.confirmed/newlocationsdf.country_population)*100\n",
    "newlocationsdf['confirmed/population (%)'] = confirmedtopop\n",
    "deathstoconfirmed = (newlocationsdf.deaths/newlocationsdf.confirmed)*100\n",
    "newlocationsdf['deaths/confirmed (%)'] = deathstoconfirmed\n",
    "newlocationsdf"
   ]
  },
  {
   "cell_type": "markdown",
   "metadata": {},
   "source": [
    "CREATE PLOTLY MAP IN DASH"
   ]
  },
  {
   "cell_type": "code",
   "execution_count": null,
   "metadata": {},
   "outputs": [],
   "source": [
    "newlocationsdf['text'] = newlocationsdf['province'] + '<br>' + newlocationsdf['country'] + '<br>' + newlocationsdf['confirmed'].astype(str)\n",
    "                                                                                                                  \n",
    "fig = go.Figure(data=go.Scattergeo(\n",
    "        locationmode = 'country names',\n",
    "        lon = newlocationsdf['longitude'],\n",
    "        lat = newlocationsdf['latitude'],\n",
    "        text = newlocationsdf['text'],\n",
    "        mode = 'markers',\n",
    "        marker = dict(\n",
    "            size = 8,\n",
    "            opacity = 0.8,\n",
    "            reversescale = False,\n",
    "            autocolorscale = False,\n",
    "            symbol = 'square',\n",
    "            line = dict(\n",
    "                width=1,\n",
    "                color='rgba(102, 102, 102)'\n",
    "            ),\n",
    "            colorscale = 'Reds',\n",
    "            cmin = newlocationsdf['confirmed'].min(),\n",
    "            color = newlocationsdf['confirmed'],\n",
    "            cmax = newlocationsdf['confirmed'].max(),\n",
    "            colorbar_title=\"Total Number Confirmed Cases\"\n",
    "        )))\n",
    "\n",
    "fig.update_layout(\n",
    "        title = 'Countries Affected by SARS-COV-2',\n",
    "        geo = dict(\n",
    "            scope='world',\n",
    "            projection_type='natural earth',\n",
    "            showland = True,\n",
    "            landcolor = \"rgb(250, 250, 250)\",\n",
    "            subunitcolor = \"rgb(217, 217, 217)\",\n",
    "            countrycolor = \"rgb(217, 217, 217)\",\n",
    "            countrywidth = 0.5,\n",
    "            subunitwidth = 0.5\n",
    "        ),\n",
    "    )\n",
    "#fig.show()\n",
    "\n",
    "app = dash.Dash()\n",
    "app.layout = html.Div([\n",
    "    dcc.Graph(figure=fig)\n",
    "])\n",
    "app.run_server(debug=True, use_reloader=False)  # Turn off reloader if inside Jupyter"
   ]
  }
 ],
 "metadata": {
  "kernelspec": {
   "display_name": "Python 3",
   "language": "python",
   "name": "python3"
  },
  "language_info": {
   "codemirror_mode": {
    "name": "ipython",
    "version": 3
   },
   "file_extension": ".py",
   "mimetype": "text/x-python",
   "name": "python",
   "nbconvert_exporter": "python",
   "pygments_lexer": "ipython3",
   "version": "3.6.5"
  }
 },
 "nbformat": 4,
 "nbformat_minor": 2
}
